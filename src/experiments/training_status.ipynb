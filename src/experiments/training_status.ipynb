{
 "cells": [
  {
   "cell_type": "code",
   "execution_count": 20,
   "metadata": {},
   "outputs": [
    {
     "name": "stdout",
     "output_type": "stream",
     "text": [
      "TRIAL_SET: static_spread_d_mlp\n",
      "MAX_GEN: 4708\n",
      "MIN_GEN : 2657 trial_8_d_mlp\n",
      "\n",
      "TRIAL_SET: static_spread_d_gru\n",
      "MAX_GEN: 1519\n",
      "MIN_GEN : 205 trial_8_d_gru\n",
      "\n"
     ]
    }
   ],
   "source": [
    "from pathlib import Path\n",
    "import csv\n",
    "\n",
    "experiments_dir = Path().resolve()\n",
    "results_dir = experiments_dir / \"results\"\n",
    "\n",
    "trials_folders = []\n",
    "\n",
    "for subfolder in results_dir.iterdir():\n",
    "    if subfolder.is_dir():\n",
    "        trials_folders.append(Path(subfolder))\n",
    "\n",
    "for folder in trials_folders:\n",
    "\n",
    "    print(f\"TRIAL_SET: {folder.name}\")\n",
    "    max_gen = 0\n",
    "    min_gen = 10000\n",
    "    min_gen_file = None\n",
    "\n",
    "    for subfolder in folder.iterdir():\n",
    "\n",
    "        if subfolder.is_dir():\n",
    "            fitness_file = subfolder / \"fitness.csv\"\n",
    "            with open(fitness_file, mode='r') as file:\n",
    "                csv_reader = csv.DictReader(file)\n",
    "                rows = list(csv_reader)\n",
    "                last_row = rows[-1] if rows else None\n",
    "                if last_row:\n",
    "                    gen = int(last_row[\"gen\"])\n",
    "                    if min_gen > gen:\n",
    "                        min_gen = gen\n",
    "                        min_gen_file = subfolder.resolve().name\n",
    "                    if max_gen < gen:\n",
    "                        max_gen=gen\n",
    "    \n",
    "    print(f\"MAX_GEN: {max_gen}\")\n",
    "    print(f\"MIN_GEN : {min_gen} {min_gen_file}\\n\")\n",
    "\n"
   ]
  }
 ],
 "metadata": {
  "kernelspec": {
   "display_name": "vmas_rovers",
   "language": "python",
   "name": "python3"
  },
  "language_info": {
   "codemirror_mode": {
    "name": "ipython",
    "version": 3
   },
   "file_extension": ".py",
   "mimetype": "text/x-python",
   "name": "python",
   "nbconvert_exporter": "python",
   "pygments_lexer": "ipython3",
   "version": "3.12.3"
  }
 },
 "nbformat": 4,
 "nbformat_minor": 2
}
