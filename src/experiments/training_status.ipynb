{
 "cells": [
  {
   "cell_type": "code",
   "execution_count": 48,
   "metadata": {},
   "outputs": [
    {
     "name": "stdout",
     "output_type": "stream",
     "text": [
      "TRIAL_SET: d_gru\n",
      "MAX_GEN: 64\n",
      "MIN_GEN: 24 6_d_gru_static_spread\n",
      "\n",
      "STATE\n",
      "'ST'\n",
      "' R'\n",
      "\n",
      "TRIAL_SET: g_gru\n",
      "MAX_GEN: 32\n",
      "MIN_GEN: 3 5_g_gru_static_spread\n",
      "\n",
      "STATE\n",
      "'ST'\n",
      "' R'\n",
      "\n",
      "TRIAL_SET: d_mlp\n",
      "MAX_GEN: 96\n",
      "MIN_GEN: 85 0_d_mlp_static_spread\n",
      "\n",
      "STATE\n",
      "'ST'\n",
      "' R'\n",
      "\n"
     ]
    }
   ],
   "source": [
    "from pathlib import Path\n",
    "import csv\n",
    "import subprocess\n",
    "\n",
    "experiments_dir = Path().resolve()\n",
    "results_dir = experiments_dir / \"results\"\n",
    "\n",
    "trials_folders = []\n",
    "batch_folders = []\n",
    "\n",
    "for subfolder in results_dir.iterdir():\n",
    "    if subfolder.is_dir():\n",
    "        batch_folders.append(Path(subfolder))\n",
    "\n",
    "for b_folder in batch_folders:\n",
    "    for t_folder in b_folder.iterdir():\n",
    "\n",
    "        print(f\"TRIAL_SET: {t_folder.name}\")\n",
    "        max_gen = 0\n",
    "        min_gen = 10000\n",
    "        min_gen_file = None\n",
    "\n",
    "        for subfolder in t_folder.iterdir():\n",
    "\n",
    "            if subfolder.is_dir():\n",
    "                fitness_file = subfolder / \"fitness.csv\"\n",
    "                with open(fitness_file, mode='r') as file:\n",
    "                    csv_reader = csv.DictReader(file)\n",
    "                    rows = list(csv_reader)\n",
    "                    last_row = rows[-1] if rows else None\n",
    "                    if last_row:\n",
    "                        gen = int(last_row[\"gen\"])\n",
    "                        if min_gen > gen:\n",
    "                            min_gen = gen\n",
    "                            min_gen_file = subfolder.resolve().name\n",
    "                        if max_gen < gen:\n",
    "                            max_gen=gen\n",
    "        \n",
    "        print(f\"MAX_GEN: {max_gen}\")\n",
    "        trial_name = \"_\".join((*min_gen_file.split(\"_\")[1:], t_folder.name, b_folder.name))\n",
    "        print(f\"MIN_GEN: {min_gen} {trial_name}\\n\")\n",
    "        print (f\"STATE\")\n",
    "        result = subprocess.run(\n",
    "        [\"squ\", f\"--name={trial_name}\", \"--format='%.2t'\"],\n",
    "        capture_output=True, text=True)\n",
    "        print(result.stdout)\n",
    "\n",
    "\n"
   ]
  }
 ],
 "metadata": {
  "kernelspec": {
   "display_name": "vmas_rovers",
   "language": "python",
   "name": "python3"
  },
  "language_info": {
   "codemirror_mode": {
    "name": "ipython",
    "version": 3
   },
   "file_extension": ".py",
   "mimetype": "text/x-python",
   "name": "python",
   "nbconvert_exporter": "python",
   "pygments_lexer": "ipython3",
   "version": "3.12.1"
  }
 },
 "nbformat": 4,
 "nbformat_minor": 2
}
