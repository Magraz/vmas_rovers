{
 "cells": [
  {
   "cell_type": "code",
   "execution_count": null,
   "metadata": {},
   "outputs": [],
   "source": [
    "import yaml\n",
    "from pathlib import Path\n",
    "from vmas_rovers.builders.static_spread import EXP_DICTS, BATCH\n",
    "\n",
    "dir_path = Path(globals()['_dh'][0]).parent / \"experiments\" / \"yamls\"\n",
    "\n",
    "for exp_dict in EXP_DICTS:\n",
    "\n",
    "    with open(dir_path / BATCH / f\"{exp_dict[\"name\"]}.yaml\", \"w\") as file:\n",
    "\n",
    "        yaml.dump(exp_dict[\"config\"], file)\n"
   ]
  }
 ],
 "metadata": {
  "kernelspec": {
   "display_name": "vmas_rovers",
   "language": "python",
   "name": "python3"
  },
  "language_info": {
   "codemirror_mode": {
    "name": "ipython",
    "version": 3
   },
   "file_extension": ".py",
   "mimetype": "text/x-python",
   "name": "python",
   "nbconvert_exporter": "python",
   "pygments_lexer": "ipython3",
   "version": "3.12.1"
  }
 },
 "nbformat": 4,
 "nbformat_minor": 2
}
